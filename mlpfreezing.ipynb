{
  "nbformat": 4,
  "nbformat_minor": 0,
  "metadata": {
    "accelerator": "GPU",
    "colab": {
      "name": "mlpfreezing.ipynb",
      "provenance": [],
      "collapsed_sections": [],
      "authorship_tag": "ABX9TyOUal9B6WkVSQ17DNX57BEH",
      "include_colab_link": true
    },
    "kernelspec": {
      "display_name": "Python 3",
      "name": "python3"
    }
  },
  "cells": [
    {
      "cell_type": "markdown",
      "metadata": {
        "id": "view-in-github",
        "colab_type": "text"
      },
      "source": [
        "<a href=\"https://colab.research.google.com/github/AaronJing/FreezeMLP/blob/mnist-fashion/mlpfreezing.ipynb\" target=\"_parent\"><img src=\"https://colab.research.google.com/assets/colab-badge.svg\" alt=\"Open In Colab\"/></a>"
      ]
    },
    {
      "cell_type": "code",
      "metadata": {
        "colab": {
          "base_uri": "https://localhost:8080/"
        },
        "id": "j-Yzg_lfkoa_",
        "outputId": "62d99dee-eb68-4a83-d220-0f3ff9655cca"
      },
      "source": [
        "!nvidia-smi -L"
      ],
      "execution_count": null,
      "outputs": [
        {
          "output_type": "stream",
          "text": [
            "GPU 0: Tesla V100-SXM2-16GB (UUID: GPU-e9684b01-8aa3-0a54-1ac7-43945bc113f9)\n"
          ],
          "name": "stdout"
        }
      ]
    },
    {
      "cell_type": "code",
      "metadata": {
        "id": "IqR2PQG4ZaZ0"
      },
      "source": [
        "import tensorflow as tf\n",
        "from tensorflow import keras\n",
        "from tensorflow.keras import layers\n",
        "batch_size = 64"
      ],
      "execution_count": null,
      "outputs": []
    },
    {
      "cell_type": "code",
      "metadata": {
        "id": "g4OT3Z6kqYAL"
      },
      "source": [
        "# Prepare data set\n",
        "(x_train, y_train), (x_test, y_test) = keras.datasets.fashion_mnist.load_data()\n",
        "\n"
      ],
      "execution_count": null,
      "outputs": []
    },
    {
      "cell_type": "code",
      "metadata": {
        "id": "XoVB1I5uzmBh"
      },
      "source": [
        "\n",
        "x_train = x_train / 255\n",
        "\n",
        "x_test = x_test / 255"
      ],
      "execution_count": null,
      "outputs": []
    },
    {
      "cell_type": "code",
      "metadata": {
        "id": "KIz-VAJH1-qJ"
      },
      "source": [
        "\n",
        "class model():\n",
        "  def __init__(self,frez=False):\n",
        "    def dense(name, neurons, kernel_initializer='glorot_uniform',activation='relu'):\n",
        "      return layers.Dense(neurons, activation = activation, name = name, kernel_initializer = kernel_initializer)\n",
        "    inputs = keras.Input(shape=(28,28),name = \"InputLayer\")\n",
        "    x = layers.Flatten()(inputs)\n",
        "    i = 0 \n",
        "    self.freezed = frez\n",
        "    while i < 7:\n",
        "      if i in [1,3,5]:\n",
        "        x = dense('dense'+str(i),192)(x)\n",
        "      else:\n",
        "        if self.freezed:\n",
        "          x = dense('dense'+str(i),192, tf.keras.initializers.Identity())(x)\n",
        "        else:\n",
        "          x = dense('dense'+str(i),192)(x)\n",
        "      i += 1\n",
        "    x = layers.Dense(10, name='dense_logits')(x)\n",
        "    outputs = layers.Activation('softmax', dtype='float32', name='predictions')(x)\n",
        "    self.model = keras.Model(inputs=inputs, outputs=outputs)\n",
        "    self.compile()\n",
        "\n",
        "  def compile(self,lr=0.001):\n",
        "    self.model.compile(loss=tf.keras.losses.SparseCategoricalCrossentropy(from_logits=True),\n",
        "    optimizer=keras.optimizers.Adam(lr),\n",
        "    metrics=['accuracy'])\n",
        "  def fit(self,train_set, valid_set):\n",
        "    self.model.fit(train_set,\n",
        "                    validation_data = valid_set,\n",
        "                    epochs=5)\n",
        "\n",
        "  def fit(self,x,y,epoch,batch_size,callbacks=None):\n",
        "    # fit(\n",
        "#     x=None, y=None, batch_size=None, epochs=1, verbose=1, callbacks=None,\n",
        "#     validation_split=0.0, validation_data=None, shuffle=True, class_weight=None,\n",
        "#     sample_weight=None, initial_epoch=0, steps_per_epoch=None,\n",
        "#     validation_steps=None, validation_batch_size=None, validation_freq=1,\n",
        "#     max_queue_size=10, workers=1, use_multiprocessing=False\n",
        "# )\n",
        "    self.model.fit(x=x,y=y,batch_size=batch_size, epochs = epoch, callbacks = callbacks,validation_split= 0.05)\n",
        "  def evaluate(self,test_set):\n",
        "    return self.model.evaluate(test_set, verbose=2)\n",
        "  def evaluate(self,x_test, y_test):\n",
        "    return self.model.evaluate(x_test,y_test, verbose=2)\n",
        "  def get_weights(self):\n",
        "    i = 0 \n",
        "    while i < 5:\n",
        "      print('dense'+str(i))\n",
        "      print(self.model.get_layer('dense'+str(i)).weights)\n",
        "      i += 1\n",
        "  def summary(self):\n",
        "    return self.model.summary()\n",
        "  def freeze(self,iteration):\n",
        "\n",
        "    if iteration == 1:\n",
        "      i = 0\n",
        "      while i < 7:\n",
        "        l = self.model.get_layer('dense'+str(i))\n",
        "        if i not in [1,3,5]:\n",
        "          l.trainable = False\n",
        "          print('dense'+str(i)+\" freezed\")\n",
        "        else:\n",
        "          l.trainable = True\n",
        "        i += 1\n",
        "        self.compile(0.001)\n",
        "    elif iteration == 2 :\n",
        "      i = 0\n",
        "      while i < 7:\n",
        "        l = self.model.get_layer('dense'+str(i))\n",
        "        if i not in [0,2,4,6]:\n",
        "          l.trainable = False\n",
        "          print('dense'+str(i)+\" freezed\")\n",
        "        else:\n",
        "          l.trainable = True\n",
        "        i += 1\n",
        "      self.compile(0.0005)\n",
        "    else:\n",
        "      i = 0\n",
        "      while i < 7:\n",
        "        l = self.model.get_layer('dense'+str(i))\n",
        "        l.trainable = True\n",
        "        i+=1\n",
        "      self.compile(0.0005)\n",
        "        \n",
        "# construct model and initial weight\n",
        "model_frez = model(True)\n"
      ],
      "execution_count": null,
      "outputs": []
    },
    {
      "cell_type": "code",
      "metadata": {
        "colab": {
          "base_uri": "https://localhost:8080/"
        },
        "id": "hO7mUWpr2HpO",
        "outputId": "d5e782ac-4252-4ade-aa8e-6d87530ced4d"
      },
      "source": [
        "import os\n",
        "model_frez.freeze(1)\n",
        "model_frez.summary()\n",
        "# print(model.get_weights())\n",
        "history = model_frez.fit(x_train,y_train,5,64)\n",
        "test_scores = model_frez.evaluate(x_test, y_test)\n",
        "print('Test loss:', test_scores[0])\n",
        "print('Test accuracy:', test_scores[1])\n",
        "model_frez.summary()\n"
      ],
      "execution_count": null,
      "outputs": [
        {
          "output_type": "stream",
          "text": [
            "dense0 freezed\n",
            "dense2 freezed\n",
            "dense4 freezed\n",
            "dense6 freezed\n",
            "Model: \"model_39\"\n",
            "_________________________________________________________________\n",
            "Layer (type)                 Output Shape              Param #   \n",
            "=================================================================\n",
            "InputLayer (InputLayer)      [(None, 28, 28)]          0         \n",
            "_________________________________________________________________\n",
            "flatten_42 (Flatten)         (None, 784)               0         \n",
            "_________________________________________________________________\n",
            "dense0 (Dense)               (None, 192)               150720    \n",
            "_________________________________________________________________\n",
            "dense1 (Dense)               (None, 192)               37056     \n",
            "_________________________________________________________________\n",
            "dense2 (Dense)               (None, 192)               37056     \n",
            "_________________________________________________________________\n",
            "dense3 (Dense)               (None, 192)               37056     \n",
            "_________________________________________________________________\n",
            "dense4 (Dense)               (None, 192)               37056     \n",
            "_________________________________________________________________\n",
            "dense5 (Dense)               (None, 192)               37056     \n",
            "_________________________________________________________________\n",
            "dense6 (Dense)               (None, 192)               37056     \n",
            "_________________________________________________________________\n",
            "dense_logits (Dense)         (None, 10)                1930      \n",
            "_________________________________________________________________\n",
            "predictions (Activation)     (None, 10)                0         \n",
            "=================================================================\n",
            "Total params: 374,986\n",
            "Trainable params: 113,098\n",
            "Non-trainable params: 261,888\n",
            "_________________________________________________________________\n",
            "Epoch 1/5\n",
            "891/891 [==============================] - 3s 3ms/step - loss: 1.0742 - accuracy: 0.5989 - val_loss: 0.7469 - val_accuracy: 0.6987\n",
            "Epoch 2/5\n",
            "891/891 [==============================] - 3s 3ms/step - loss: 0.7577 - accuracy: 0.6968 - val_loss: 0.7448 - val_accuracy: 0.6757\n",
            "Epoch 3/5\n",
            "891/891 [==============================] - 3s 3ms/step - loss: 0.7213 - accuracy: 0.7084 - val_loss: 0.6963 - val_accuracy: 0.7147\n",
            "Epoch 4/5\n",
            "891/891 [==============================] - 3s 3ms/step - loss: 0.6966 - accuracy: 0.7168 - val_loss: 0.6830 - val_accuracy: 0.7150\n",
            "Epoch 5/5\n",
            "891/891 [==============================] - 3s 3ms/step - loss: 0.6668 - accuracy: 0.7274 - val_loss: 0.6826 - val_accuracy: 0.7167\n",
            "313/313 - 0s - loss: 0.7282 - accuracy: 0.7101\n",
            "Test loss: 0.7281962633132935\n",
            "Test accuracy: 0.710099995136261\n",
            "Model: \"model_39\"\n",
            "_________________________________________________________________\n",
            "Layer (type)                 Output Shape              Param #   \n",
            "=================================================================\n",
            "InputLayer (InputLayer)      [(None, 28, 28)]          0         \n",
            "_________________________________________________________________\n",
            "flatten_42 (Flatten)         (None, 784)               0         \n",
            "_________________________________________________________________\n",
            "dense0 (Dense)               (None, 192)               150720    \n",
            "_________________________________________________________________\n",
            "dense1 (Dense)               (None, 192)               37056     \n",
            "_________________________________________________________________\n",
            "dense2 (Dense)               (None, 192)               37056     \n",
            "_________________________________________________________________\n",
            "dense3 (Dense)               (None, 192)               37056     \n",
            "_________________________________________________________________\n",
            "dense4 (Dense)               (None, 192)               37056     \n",
            "_________________________________________________________________\n",
            "dense5 (Dense)               (None, 192)               37056     \n",
            "_________________________________________________________________\n",
            "dense6 (Dense)               (None, 192)               37056     \n",
            "_________________________________________________________________\n",
            "dense_logits (Dense)         (None, 10)                1930      \n",
            "_________________________________________________________________\n",
            "predictions (Activation)     (None, 10)                0         \n",
            "=================================================================\n",
            "Total params: 374,986\n",
            "Trainable params: 113,098\n",
            "Non-trainable params: 261,888\n",
            "_________________________________________________________________\n"
          ],
          "name": "stdout"
        }
      ]
    },
    {
      "cell_type": "code",
      "metadata": {
        "colab": {
          "base_uri": "https://localhost:8080/"
        },
        "id": "EsowSR2mVRf1",
        "outputId": "88f328f3-c4a8-48cd-93de-19e0a767b77f"
      },
      "source": [
        "model_frez.freeze(2)\n",
        "model_frez.evaluate(x_test,y_test)\n",
        "model_frez.fit(x_train,y_train,5,64)\n",
        "model_frez.evaluate(x_test,y_test)"
      ],
      "execution_count": null,
      "outputs": [
        {
          "output_type": "stream",
          "text": [
            "dense1 freezed\n",
            "dense3 freezed\n",
            "dense5 freezed\n",
            "313/313 - 1s - loss: 0.7282 - accuracy: 0.7101\n",
            "Epoch 1/5\n",
            "891/891 [==============================] - 3s 3ms/step - loss: 0.4249 - accuracy: 0.8414 - val_loss: 0.3472 - val_accuracy: 0.8667\n",
            "Epoch 2/5\n",
            "891/891 [==============================] - 3s 3ms/step - loss: 0.3440 - accuracy: 0.8721 - val_loss: 0.3216 - val_accuracy: 0.8823\n",
            "Epoch 3/5\n",
            "891/891 [==============================] - 3s 3ms/step - loss: 0.3163 - accuracy: 0.8815 - val_loss: 0.3231 - val_accuracy: 0.8777\n",
            "Epoch 4/5\n",
            "891/891 [==============================] - 3s 3ms/step - loss: 0.3015 - accuracy: 0.8875 - val_loss: 0.3303 - val_accuracy: 0.8767\n",
            "Epoch 5/5\n",
            "891/891 [==============================] - 3s 3ms/step - loss: 0.2870 - accuracy: 0.8922 - val_loss: 0.3169 - val_accuracy: 0.8837\n",
            "313/313 - 0s - loss: 0.3491 - accuracy: 0.8805\n"
          ],
          "name": "stdout"
        },
        {
          "output_type": "execute_result",
          "data": {
            "text/plain": [
              "[0.3491112291812897, 0.8805000185966492]"
            ]
          },
          "metadata": {
            "tags": []
          },
          "execution_count": 127
        }
      ]
    },
    {
      "cell_type": "code",
      "metadata": {
        "colab": {
          "base_uri": "https://localhost:8080/"
        },
        "id": "vI8ocFq0V_qa",
        "outputId": "7ab822b4-cef7-4cf0-ac45-957d371be384"
      },
      "source": [
        "model_once_train = model(False)\n",
        "def scheduler(epoch, lr):\n",
        "  if epoch > 5:\n",
        "    return 0.0005\n",
        "  else:\n",
        "    return 0.001\n",
        "model_once_train.fit(x_train,y_train,10,64,[ tf.keras.callbacks.LearningRateScheduler(scheduler)])\n",
        "model_once_train.evaluate(x_test,y_test)"
      ],
      "execution_count": null,
      "outputs": [
        {
          "output_type": "stream",
          "text": [
            "Epoch 1/10\n",
            "891/891 [==============================] - 3s 3ms/step - loss: 0.7227 - accuracy: 0.7340 - val_loss: 0.4172 - val_accuracy: 0.8420\n",
            "Epoch 2/10\n",
            "891/891 [==============================] - 3s 3ms/step - loss: 0.4039 - accuracy: 0.8545 - val_loss: 0.4081 - val_accuracy: 0.8433\n",
            "Epoch 3/10\n",
            "891/891 [==============================] - 3s 3ms/step - loss: 0.3569 - accuracy: 0.8687 - val_loss: 0.3466 - val_accuracy: 0.8713\n",
            "Epoch 4/10\n",
            "891/891 [==============================] - 3s 3ms/step - loss: 0.3299 - accuracy: 0.8824 - val_loss: 0.3536 - val_accuracy: 0.8783\n",
            "Epoch 5/10\n",
            "891/891 [==============================] - 3s 3ms/step - loss: 0.3099 - accuracy: 0.8858 - val_loss: 0.3604 - val_accuracy: 0.8710\n",
            "Epoch 6/10\n",
            "891/891 [==============================] - 3s 3ms/step - loss: 0.2961 - accuracy: 0.8911 - val_loss: 0.3553 - val_accuracy: 0.8767\n",
            "Epoch 7/10\n",
            "891/891 [==============================] - 3s 3ms/step - loss: 0.2604 - accuracy: 0.9030 - val_loss: 0.3170 - val_accuracy: 0.8850\n",
            "Epoch 8/10\n",
            "891/891 [==============================] - 3s 3ms/step - loss: 0.2362 - accuracy: 0.9103 - val_loss: 0.3274 - val_accuracy: 0.8867\n",
            "Epoch 9/10\n",
            "891/891 [==============================] - 3s 3ms/step - loss: 0.2253 - accuracy: 0.9151 - val_loss: 0.2997 - val_accuracy: 0.8947\n",
            "Epoch 10/10\n",
            "891/891 [==============================] - 3s 3ms/step - loss: 0.2246 - accuracy: 0.9149 - val_loss: 0.3045 - val_accuracy: 0.8847\n",
            "313/313 - 0s - loss: 0.3407 - accuracy: 0.8813\n"
          ],
          "name": "stdout"
        },
        {
          "output_type": "execute_result",
          "data": {
            "text/plain": [
              "[0.34073713421821594, 0.8812999725341797]"
            ]
          },
          "metadata": {
            "tags": []
          },
          "execution_count": 128
        }
      ]
    }
  ]
}